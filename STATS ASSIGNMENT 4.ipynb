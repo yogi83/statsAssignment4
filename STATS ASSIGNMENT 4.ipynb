{
 "cells": [
  {
   "cell_type": "code",
   "execution_count": 72,
   "id": "34e77bb4",
   "metadata": {},
   "outputs": [
    {
     "data": {
      "text/html": [
       "<div>\n",
       "<style scoped>\n",
       "    .dataframe tbody tr th:only-of-type {\n",
       "        vertical-align: middle;\n",
       "    }\n",
       "\n",
       "    .dataframe tbody tr th {\n",
       "        vertical-align: top;\n",
       "    }\n",
       "\n",
       "    .dataframe thead th {\n",
       "        text-align: right;\n",
       "    }\n",
       "</style>\n",
       "<table border=\"1\" class=\"dataframe\">\n",
       "  <thead>\n",
       "    <tr style=\"text-align: right;\">\n",
       "      <th></th>\n",
       "      <th>high School</th>\n",
       "      <th>becholers</th>\n",
       "      <th>masters</th>\n",
       "      <th>P.hd</th>\n",
       "      <th>row_total</th>\n",
       "    </tr>\n",
       "  </thead>\n",
       "  <tbody>\n",
       "    <tr>\n",
       "      <th>females</th>\n",
       "      <td>60</td>\n",
       "      <td>54</td>\n",
       "      <td>46</td>\n",
       "      <td>41</td>\n",
       "      <td>201</td>\n",
       "    </tr>\n",
       "    <tr>\n",
       "      <th>males</th>\n",
       "      <td>40</td>\n",
       "      <td>44</td>\n",
       "      <td>53</td>\n",
       "      <td>57</td>\n",
       "      <td>194</td>\n",
       "    </tr>\n",
       "    <tr>\n",
       "      <th>col_total</th>\n",
       "      <td>100</td>\n",
       "      <td>98</td>\n",
       "      <td>99</td>\n",
       "      <td>98</td>\n",
       "      <td>395</td>\n",
       "    </tr>\n",
       "  </tbody>\n",
       "</table>\n",
       "</div>"
      ],
      "text/plain": [
       "           high School  becholers  masters  P.hd  row_total\n",
       "females             60         54       46    41        201\n",
       "males               40         44       53    57        194\n",
       "col_total          100         98       99    98        395"
      ]
     },
     "execution_count": 72,
     "metadata": {},
     "output_type": "execute_result"
    }
   ],
   "source": [
    "'''Problem Statement 1:\n",
    "Is gender independent of education level? A random sample of 395 people were \n",
    "surveyed and each person was asked to report the highest education level they \n",
    "obtained. The data that resulted from the survey is summarized in the following table:\n",
    "       High School  Bachelors  Masters  Ph.d.  Total\n",
    "Female     60         54          46    41     201\n",
    "Male       40         44          53    57     194\n",
    "Total     100         98          99    98     395\n",
    "Question: Are gender and education level dependent at 5% level of significance? In\n",
    "other words, given the data collected above, is there a relationship between the\n",
    "gender of an individual and the level of education that they have obtained? '''\n",
    "\n",
    "\n",
    "# first we to make dataframe same as the table given : \n",
    "\n",
    "f = [60,54,46,41,201]\n",
    "m = [40,44,53,57,194]\n",
    "t = [100,98,99,98,395]\n",
    "import pandas as pd\n",
    "import numpy as np\n",
    "import scipy.stats as stats\n",
    "\n",
    "data = []\n",
    "data.append(f)\n",
    "data.append(m)\n",
    "data.append(t)\n",
    "\n",
    "df = pd.DataFrame(data)# it will add like rows \n",
    "\n",
    "df.columns = ['high School', 'becholers', 'masters','P.hd','row_total']\n",
    "df.index = ['females', 'males', 'col_total']\n",
    "df\n",
    "\n",
    "\n",
    "# null hypothesis is - there is no relationship between gender & qualifications\n",
    "\n",
    "df"
   ]
  },
  {
   "cell_type": "code",
   "execution_count": 73,
   "id": "895b9720",
   "metadata": {},
   "outputs": [
    {
     "data": {
      "text/html": [
       "<div>\n",
       "<style scoped>\n",
       "    .dataframe tbody tr th:only-of-type {\n",
       "        vertical-align: middle;\n",
       "    }\n",
       "\n",
       "    .dataframe tbody tr th {\n",
       "        vertical-align: top;\n",
       "    }\n",
       "\n",
       "    .dataframe thead th {\n",
       "        text-align: right;\n",
       "    }\n",
       "</style>\n",
       "<table border=\"1\" class=\"dataframe\">\n",
       "  <thead>\n",
       "    <tr style=\"text-align: right;\">\n",
       "      <th></th>\n",
       "      <th>high School</th>\n",
       "      <th>becholers</th>\n",
       "      <th>masters</th>\n",
       "      <th>P.hd</th>\n",
       "    </tr>\n",
       "  </thead>\n",
       "  <tbody>\n",
       "    <tr>\n",
       "      <th>females</th>\n",
       "      <td>50.886076</td>\n",
       "      <td>49.868354</td>\n",
       "      <td>50.377215</td>\n",
       "      <td>49.868354</td>\n",
       "    </tr>\n",
       "    <tr>\n",
       "      <th>males</th>\n",
       "      <td>49.113924</td>\n",
       "      <td>48.131646</td>\n",
       "      <td>48.622785</td>\n",
       "      <td>48.131646</td>\n",
       "    </tr>\n",
       "  </tbody>\n",
       "</table>\n",
       "</div>"
      ],
      "text/plain": [
       "         high School  becholers    masters       P.hd\n",
       "females    50.886076  49.868354  50.377215  49.868354\n",
       "males      49.113924  48.131646  48.622785  48.131646"
      ]
     },
     "execution_count": 73,
     "metadata": {},
     "output_type": "execute_result"
    }
   ],
   "source": [
    "# here we have to check chi square test in two dimensions but here we have to calculate the expected count corroesponding to\n",
    "# each value which we can get by multiplying that row total with columns total & divide it by full total. in short we can use \n",
    "# np.outer function & pass one parameter as row total & 2nd as columns total, then divide it by whole total\n",
    "\n",
    "exp_array = np.outer(df['row_total'][0:2], df.loc['col_total'][0:4]) / 395\n",
    "\n",
    "exp_df = pd.DataFrame(df1)\n",
    "exp_df.columns = ['high School', 'becholers', 'masters','P.hd']\n",
    "exp_df.index = ['females', 'males']\n",
    "exp_df"
   ]
  },
  {
   "cell_type": "code",
   "execution_count": 74,
   "id": "43de0947",
   "metadata": {},
   "outputs": [
    {
     "data": {
      "text/html": [
       "<div>\n",
       "<style scoped>\n",
       "    .dataframe tbody tr th:only-of-type {\n",
       "        vertical-align: middle;\n",
       "    }\n",
       "\n",
       "    .dataframe tbody tr th {\n",
       "        vertical-align: top;\n",
       "    }\n",
       "\n",
       "    .dataframe thead th {\n",
       "        text-align: right;\n",
       "    }\n",
       "</style>\n",
       "<table border=\"1\" class=\"dataframe\">\n",
       "  <thead>\n",
       "    <tr style=\"text-align: right;\">\n",
       "      <th></th>\n",
       "      <th>high School</th>\n",
       "      <th>becholers</th>\n",
       "      <th>masters</th>\n",
       "      <th>P.hd</th>\n",
       "    </tr>\n",
       "  </thead>\n",
       "  <tbody>\n",
       "    <tr>\n",
       "      <th>females</th>\n",
       "      <td>60</td>\n",
       "      <td>54</td>\n",
       "      <td>46</td>\n",
       "      <td>41</td>\n",
       "    </tr>\n",
       "    <tr>\n",
       "      <th>males</th>\n",
       "      <td>40</td>\n",
       "      <td>44</td>\n",
       "      <td>53</td>\n",
       "      <td>57</td>\n",
       "    </tr>\n",
       "  </tbody>\n",
       "</table>\n",
       "</div>"
      ],
      "text/plain": [
       "         high School  becholers  masters  P.hd\n",
       "females           60         54       46    41\n",
       "males             40         44       53    57"
      ]
     },
     "execution_count": 74,
     "metadata": {},
     "output_type": "execute_result"
    }
   ],
   "source": [
    "# hence we get the expected values of all the counts, now we calculate chi square statistics, for that we have to \n",
    "# create another dataframe from original one &  removing the col_total & row_total, so that its dimensions be same like exp_df\n",
    "obs_df = df.iloc[0:2,0:4]\n",
    "obs_df"
   ]
  },
  {
   "cell_type": "code",
   "execution_count": 75,
   "id": "a1125248",
   "metadata": {},
   "outputs": [
    {
     "data": {
      "text/plain": [
       "8.006066246262538"
      ]
     },
     "execution_count": 75,
     "metadata": {},
     "output_type": "execute_result"
    }
   ],
   "source": [
    "# We call .sum() twice:once to get the column sums and a second time to add the column sums together,\n",
    "# returning the sum of the entire 2D table\n",
    "chi_stat = ((obs_df - exp_df)**2 / exp_df).sum().sum()\n",
    "chi_stat"
   ]
  },
  {
   "cell_type": "markdown",
   "id": "1cb7ce3f",
   "metadata": {},
   "source": [
    "so we find out that chi square value which is 8"
   ]
  },
  {
   "cell_type": "code",
   "execution_count": 77,
   "id": "fc6621fe",
   "metadata": {},
   "outputs": [
    {
     "name": "stdout",
     "output_type": "stream",
     "text": [
      "critical value : 7.814727903251179\n",
      "p value is : 0.04588650089174717\n"
     ]
    }
   ],
   "source": [
    "# now our table is 2X4, & the degree of freedom is equals to the product of row & column minus one from both of them \n",
    "# so our dof is : 1 X 3 = 3\n",
    "# now we found critical value with alpha = 5% or C.I. 95% & then p value\n",
    "\n",
    "critical_value = stats.chi2.ppf(q= 0.95, df = 3)\n",
    "\n",
    "print('critical value : {}'.format(critical_value))\n",
    "\n",
    "p_value = 1 - stats.chi2.cdf(x = chi_stat, df = 3)\n",
    "\n",
    "print('p value is : {}'.format(p_value))"
   ]
  },
  {
   "cell_type": "markdown",
   "id": "21e711b6",
   "metadata": {},
   "source": [
    "Use stats.chi2_contingency() function to conduct a test of independence automatically given a frequency table of observed counts:"
   ]
  },
  {
   "cell_type": "code",
   "execution_count": 78,
   "id": "56516600",
   "metadata": {},
   "outputs": [
    {
     "data": {
      "text/plain": [
       "(8.006066246262538,\n",
       " 0.045886500891747214,\n",
       " 3,\n",
       " array([[50.88607595, 49.86835443, 50.37721519, 49.86835443],\n",
       "        [49.11392405, 48.13164557, 48.62278481, 48.13164557]]))"
      ]
     },
     "execution_count": 78,
     "metadata": {},
     "output_type": "execute_result"
    }
   ],
   "source": [
    "stats.chi2_contingency(observed = obs_df)"
   ]
  },
  {
   "cell_type": "markdown",
   "id": "eb45032c",
   "metadata": {},
   "source": [
    "so it shows that chi square value is 8, p value is 0.045 & then the array having expected counts. now the critical value with \n",
    "3df is 7.815 which is smaller than chi_sq value, so we reject the null hypothesis and we can say that there is some relation\n",
    "in between the gender & their education qualifications with significance level 5%"
   ]
  },
  {
   "cell_type": "code",
   "execution_count": 3,
   "id": "aae6b553",
   "metadata": {},
   "outputs": [
    {
     "name": "stdout",
     "output_type": "stream",
     "text": [
      "the f static value is : 9.747205503009463 & p value is : 0.0030597541434430556\n"
     ]
    }
   ],
   "source": [
    "'''Problem Statement 2:\n",
    "Using the following data, perform a oneway analysis of variance using α=.05. Write up the results in APA format.\n",
    "\n",
    "[Group1: 51, 45, 33, 45, 67] [Group2: 23, 43, 23, 43, 45] [Group3: 56, 76, 74, 87, 56] '''\n",
    "\n",
    "# scipy labrary has a function f_oneway() to test one way anova test\n",
    "import scipy.stats as stats\n",
    "\n",
    "Group1= [51, 45, 33, 45, 67]\n",
    "Group2= [23, 43, 23, 43, 45] \n",
    "Group3= [56, 76, 74, 87, 56]\n",
    "\n",
    "statistics , pvalue = stats.f_oneway(Group1,Group2, Group3)\n",
    "\n",
    "print('the f static value is : {} & p value is : {}'.format(statistics, pvalue))\n",
    "\n",
    "if p_value < 0.05:\n",
    "    print('True')\n",
    "else:\n",
    "    print('False')\n",
    "    "
   ]
  },
  {
   "cell_type": "code",
   "execution_count": 5,
   "id": "bb87cffb",
   "metadata": {},
   "outputs": [
    {
     "name": "stdout",
     "output_type": "stream",
     "text": [
      "F Test for given 10, 20, 30, 40, 50 and 5,10,15, 20, 25 is :  4.0\n"
     ]
    }
   ],
   "source": [
    "'''Problem Statement 3:\n",
    "Calculate F Test for given 10, 20, 30, 40, 50 and 5,10,15, 20, 25.\n",
    "For 10, 20, 30, 40, 50: '''\n",
    "\n",
    "Group1 = [10,20,30,40,50]\n",
    "Group2 = [5,10,15,20,25]\n",
    "\n",
    "import numpy as np\n",
    "mean_1 = np.mean(Group1)\n",
    "mean_2 = np.mean(Group2)\n",
    "\n",
    "grp1_sub_mean1 = []\n",
    "grp2_sub_mean2 = []\n",
    "add1 = 0\n",
    "add2 = 0\n",
    "for items in Group1:\n",
    "    add1 += (items - mean_1)**2\n",
    "for items in Group2:\n",
    "    add2 += (items - mean_2)**2\n",
    "var1 = add1/(len(Group1)-1)\n",
    "var2 = add2/(len(Group2)-1)\n",
    "\n",
    "F_Test = var1/var2\n",
    "print(\"F Test for given 10, 20, 30, 40, 50 and 5,10,15, 20, 25 is : \",F_Test)\n"
   ]
  }
 ],
 "metadata": {
  "kernelspec": {
   "display_name": "Python 3",
   "language": "python",
   "name": "python3"
  },
  "language_info": {
   "codemirror_mode": {
    "name": "ipython",
    "version": 3
   },
   "file_extension": ".py",
   "mimetype": "text/x-python",
   "name": "python",
   "nbconvert_exporter": "python",
   "pygments_lexer": "ipython3",
   "version": "3.8.8"
  }
 },
 "nbformat": 4,
 "nbformat_minor": 5
}
